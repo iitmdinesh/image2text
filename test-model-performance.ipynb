{
 "cells": [
  {
   "cell_type": "code",
   "execution_count": 1,
   "metadata": {},
   "outputs": [
    {
     "name": "stderr",
     "output_type": "stream",
     "text": [
      "/Users/dinesh/miniforge3/envs/image_captioning/lib/python3.10/site-packages/pydantic/_internal/_fields.py:127: UserWarning: Field \"model_str\" has conflict with protected namespace \"model_\".\n",
      "\n",
      "You may be able to resolve this warning by setting `model_config['protected_namespaces'] = ()`.\n",
      "  warnings.warn(\n",
      "/Users/dinesh/miniforge3/envs/image_captioning/lib/python3.10/site-packages/bitsandbytes/cextension.py:34: UserWarning: The installed version of bitsandbytes was compiled without GPU support. 8-bit optimizers, 8-bit multiplication, and GPU quantization are unavailable.\n",
      "  warn(\"The installed version of bitsandbytes was compiled without GPU support. \"\n"
     ]
    },
    {
     "name": "stdout",
     "output_type": "stream",
     "text": [
      "'NoneType' object has no attribute 'cadam32bit_grad_fp32'\n"
     ]
    }
   ],
   "source": [
    "import torch\n",
    "import torch.utils.data\n",
    "import matplotlib.pyplot as plt\n",
    "\n",
    "import yaml\n",
    "\n",
    "from configs.trainer import TrainingConfig\n",
    "\n",
    "from models.vision_encoder_decoder import VisionEncoderDecoder\n",
    "\n",
    "from transformers import AutoTokenizer, PreTrainedTokenizer\n",
    "from deeplake import load, Dataset\n",
    "from torchvision.models import ViT_B_16_Weights"
   ]
  },
  {
   "cell_type": "code",
   "execution_count": 3,
   "metadata": {
    "collapsed": false,
    "jupyter": {
     "outputs_hidden": false
    }
   },
   "outputs": [],
   "source": [
    "def get_dataloader(batch_size, shuffle):\n",
    "    ds: Dataset = load('hub://activeloop/flickr30k')\n",
    "    val_dl = ds.query(\"SELECT * WHERE ROW_NUMBER() >= 27000 \"). \\\n",
    "        pytorch(batch_size=batch_size, shuffle=shuffle, num_workers=0,\n",
    "                buffer_size=32, use_local_cache=True)\n",
    "    return val_dl\n"
   ]
  },
  {
   "cell_type": "code",
   "execution_count": 4,
   "metadata": {},
   "outputs": [],
   "source": [
    "config_file = 'training_configs/local/nano.yaml'\n",
    "chkpt_file = 'checkpoints/nano.pt'"
   ]
  },
  {
   "cell_type": "code",
   "execution_count": 5,
   "metadata": {},
   "outputs": [
    {
     "name": "stdout",
     "output_type": "stream",
     "text": [
      "model=VisionEncoderDecoderConfig(vision_encoder_config=ViTConfig(refine_base_model=False, n_embd_out_vit=768, n_cls=16, gate_sizes=(1024,)), decoder_config=TransformerDecoderConfig(use_advanced_pos_emb=False, advanced_pos_emb_gate_sizes=None, pretrained_model=<ModelType.GPT2: 'gpt2'>, enable_gradient_checkpointing=False, n_layer=12, skip_alternate_cross_attn=True, block_size=1024, vocab_size=50257, transformer_config=TransformerConfig(rotator_config=MLPConfig(ff_mult=4.0), is_causal=False, is_cross_attn=True, max_block_size=None, is_sparse_attn=False, sparsity_factor=0.5, attn_config=SelfAttentionConfig(attn_dropout=0.1, bias=True, dropout=0.1, n_head=12, n_embd=768, attn_type=<SelfAttentionType.MULTI_HEAD: 'multi_head'>))), loose_match_decoder_state_dict=True, chkpt_path='checkpoints/nano.pt', use_cross_attn=True, use_soft_prompting=True, no_repeat_n_grams=(2, 3, 4, 5)) disable_flash=False ignore_index=-100 batch_size=4 dataloader_buffer_size=5 shuffle=True gradient_accumulation_steps=2 epochs=1 num_steps=200 num_val_steps=20 precision='no' add_eos=True tokenizer_str='gpt2' reset_moco_after_k_epochs=None trainer=TrainerWrapperConfig(moco_momentum=None, moco_alpha=None, training_temperature=1.0, weight_fn='constant', mask_fraction=0.0, random_mask_fraction=0.0, eos_token_weight=None) optimizers=[OptimizerConfig(lr=0.001, weight_decay=0.1, target_modules=['model.encoder.proj.*']), OptimizerConfig(lr=0.0006, weight_decay=0.0, target_modules=['model.decoder.transformer.h.*.cross_attn.*', 'model.decoder.transformer.wpe.*'])]\n"
     ]
    },
    {
     "name": "stderr",
     "output_type": "stream",
     "text": [
      "/var/folders/1n/tqgq4c0j5p7cs5dk9n284h7c0000gn/T/ipykernel_2959/3115359875.py:2: PydanticDeprecatedSince20: The `parse_obj` method is deprecated; use `model_validate` instead. Deprecated in Pydantic V2.0 to be removed in V3.0. See Pydantic V2 Migration Guide at https://errors.pydantic.dev/2.0.3/migration/\n",
      "  config: TrainingConfig = TrainingConfig.parse_obj(obj)\n"
     ]
    }
   ],
   "source": [
    "obj = yaml.safe_load(open(config_file, 'r'))\n",
    "config: TrainingConfig = TrainingConfig.parse_obj(obj)\n",
    "config.model.chkpt_path = chkpt_file\n",
    "print(config)"
   ]
  },
  {
   "cell_type": "code",
   "execution_count": 6,
   "metadata": {},
   "outputs": [],
   "source": [
    "tokenizer: PreTrainedTokenizer = AutoTokenizer.from_pretrained(config.tokenizer_str)\n",
    "kwargs = {}\n",
    "if tokenizer.eos_token_id is None:\n",
    "    kwargs['eos_token'] = '<EOS>'\n",
    "if tokenizer.bos_token_id is None:\n",
    "    kwargs['bos_token'] = '<BOS>'\n",
    "if tokenizer.mask_token_id is None and config.trainer.mask_fraction > 0:\n",
    "    kwargs['mask_token'] = '<MSK>'\n",
    "tokenizer: PreTrainedTokenizer = AutoTokenizer.from_pretrained(\n",
    "    config.tokenizer_str, **kwargs)\n"
   ]
  },
  {
   "cell_type": "code",
   "execution_count": 9,
   "outputs": [
    {
     "data": {
      "text/plain": "'<|endoftext|>'"
     },
     "execution_count": 9,
     "metadata": {},
     "output_type": "execute_result"
    }
   ],
   "source": [],
   "metadata": {
    "collapsed": false
   }
  },
  {
   "cell_type": "code",
   "execution_count": null,
   "metadata": {},
   "outputs": [],
   "source": [
    "val_dl = get_dataloader(1, False)"
   ]
  },
  {
   "cell_type": "code",
   "execution_count": null,
   "metadata": {},
   "outputs": [],
   "source": [
    "device = 'cuda' if torch.cuda.is_available() else ('mps' if torch.has_mps else 'cpu')"
   ]
  },
  {
   "cell_type": "code",
   "execution_count": null,
   "metadata": {},
   "outputs": [],
   "source": [
    "model = VisionEncoderDecoder(config.model).to(device)\n"
   ]
  },
  {
   "cell_type": "code",
   "execution_count": null,
   "metadata": {},
   "outputs": [],
   "source": [
    "model.eval()"
   ]
  },
  {
   "cell_type": "code",
   "execution_count": null,
   "metadata": {},
   "outputs": [],
   "source": [
    "# num_beams = 4\n",
    "# num_new_tokens = 64\n",
    "# top_k = 16\n",
    "# temperature = 1.0\n",
    "# consolidation_temperature = 100.0\n",
    "# batch_size = 1\n",
    "ignore_index = -100\n",
    "# beam_expansion_factor = 8\n",
    "# length_boost = 1.0\n",
    "\n",
    "num_candidates = 8"
   ]
  },
  {
   "cell_type": "code",
   "execution_count": null,
   "metadata": {},
   "outputs": [],
   "source": [
    "# generator = BeamSearchTokenGenerator(\n",
    "#     model,\n",
    "#     beam_width=num_beams,\n",
    "#     temperature=temperature,\n",
    "#     consolidation_temperature=consolidation_temperature,\n",
    "#     max_new_tokens=num_new_tokens,\n",
    "#     no_repeat_n_grams=(2, 3, 4, 5),\n",
    "#     top_k=top_k,\n",
    "#     beam_expansion_factor=beam_expansion_factor,\n",
    "#     eos_token_id=tokenizer.eos_token_id,\n",
    "#     length_boost=length_boost,\n",
    "# )"
   ]
  },
  {
   "cell_type": "code",
   "execution_count": null,
   "metadata": {
    "scrolled": true
   },
   "outputs": [],
   "source": [
    "tx = ViT_B_16_Weights.IMAGENET1K_SWAG_LINEAR_V1.transforms()\n",
    "\n",
    "\n",
    "for i, batch in enumerate(val_dl):\n",
    "    if i == 20:\n",
    "        break\n",
    "\n",
    "    x = torch.tensor(batch['image'])\n",
    "    plt.imshow(x[0])\n",
    "    plt.show()\n",
    "\n",
    "    x = tx(x[0].permute(2, 0, 1)).unsqueeze(0)\n",
    "\n",
    "    prompt = tokenizer.bos_token\n",
    "    prompt_ids = torch.tensor(tokenizer(text=prompt).input_ids, dtype=torch.long).to(x.device).unsqueeze(0).expand(x.size(0), -1).contiguous()\n",
    "    x = x.to(device).expand(num_candidates, -1, -1, -1)\n",
    "\n",
    "    decoded_ids = torch.tensor(\n",
    "        tokenizer(text=prompt).input_ids,\n",
    "        dtype=torch.long).to(device).unsqueeze(0).expand(x.size(0), -1).contiguous()\n",
    "\n",
    "    result = model.generate(images=x,\n",
    "                            prompt_ids=decoded_ids,\n",
    "                            temperature=1.0,\n",
    "                            max_new_tokens=64,\n",
    "                            top_k=16)\n",
    "    result = tokenizer.batch_decode(result)\n",
    "\n",
    "    print('truth', batch['caption_0'][0], batch['caption_1'][0], batch['caption_2'][0], batch['caption_3'][0], batch['caption_4'][0], '\\n')\n",
    "    for gen in result:\n",
    "        i = gen.find(tokenizer.eos_token)\n",
    "        gen = gen[:i]\n",
    "        print(gen)\n",
    "    print(\"========================================================\")"
   ]
  },
  {
   "cell_type": "code",
   "execution_count": null,
   "metadata": {},
   "outputs": [],
   "source": []
  }
 ],
 "metadata": {
  "kernelspec": {
   "display_name": "Python 3 (ipykernel)",
   "language": "python",
   "name": "python3"
  },
  "language_info": {
   "codemirror_mode": {
    "name": "ipython",
    "version": 3
   },
   "file_extension": ".py",
   "mimetype": "text/x-python",
   "name": "python",
   "nbconvert_exporter": "python",
   "pygments_lexer": "ipython3",
   "version": "3.10.12"
  }
 },
 "nbformat": 4,
 "nbformat_minor": 4
}
