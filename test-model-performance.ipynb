{
 "cells": [
  {
   "cell_type": "code",
   "execution_count": null,
   "metadata": {},
   "outputs": [],
   "source": [
    "import torch\n",
    "import torch.utils.data\n",
    "import matplotlib.pyplot as plt\n",
    "\n",
    "import yaml\n",
    "\n",
    "from configs.trainer import TrainingConfig\n",
    "\n",
    "from models.vision_encoder_decoder import VisionEncoderDecoder\n",
    "\n",
    "from transformers import AutoTokenizer, PreTrainedTokenizer\n",
    "from deeplake import load, Dataset\n",
    "from torchvision.models import ViT_B_16_Weights"
   ]
  },
  {
   "cell_type": "code",
   "execution_count": null,
   "metadata": {
    "collapsed": false,
    "jupyter": {
     "outputs_hidden": false
    }
   },
   "outputs": [],
   "source": [
    "def get_dataloader(batch_size, shuffle):\n",
    "    ds: Dataset = load('hub://activeloop/flickr30k')\n",
    "    val_dl = ds[27000:]. \\\n",
    "        pytorch(batch_size=batch_size, shuffle=shuffle, num_workers=0,\n",
    "                buffer_size=32, use_local_cache=True)\n",
    "    return val_dl\n"
   ]
  },
  {
   "cell_type": "code",
   "execution_count": null,
   "metadata": {},
   "outputs": [],
   "source": [
    "config_file = 'training_configs/local/nano.yaml'\n",
    "chkpt_file = 'checkpoints/nano.pt'"
   ]
  },
  {
   "cell_type": "code",
   "execution_count": null,
   "metadata": {},
   "outputs": [],
   "source": [
    "obj = yaml.safe_load(open(config_file, 'r'))\n",
    "config: TrainingConfig = TrainingConfig.parse_obj(obj)\n",
    "config.model.chkpt_path = chkpt_file\n",
    "print(config)"
   ]
  },
  {
   "cell_type": "code",
   "execution_count": null,
   "metadata": {},
   "outputs": [],
   "source": [
    "tokenizer: PreTrainedTokenizer = AutoTokenizer.from_pretrained(config.tokenizer_str)\n",
    "kwargs = {}\n",
    "if tokenizer.eos_token_id is None:\n",
    "    kwargs['eos_token'] = '<EOS>'\n",
    "if tokenizer.bos_token_id is None:\n",
    "    kwargs['bos_token'] = '<BOS>'\n",
    "if tokenizer.mask_token_id is None and config.trainer.mask_fraction > 0:\n",
    "    kwargs['mask_token'] = '<MSK>'\n",
    "tokenizer: PreTrainedTokenizer = AutoTokenizer.from_pretrained(\n",
    "    config.tokenizer_str, **kwargs)\n"
   ]
  },
  {
   "cell_type": "code",
   "execution_count": null,
   "metadata": {},
   "outputs": [],
   "source": [
    "val_dl = get_dataloader(1, False)"
   ]
  },
  {
   "cell_type": "code",
   "execution_count": null,
   "metadata": {},
   "outputs": [],
   "source": [
    "device = 'cuda' if torch.cuda.is_available() else ('mps' if torch.has_mps else 'cpu')"
   ]
  },
  {
   "cell_type": "code",
   "execution_count": null,
   "metadata": {},
   "outputs": [],
   "source": [
    "model = VisionEncoderDecoder(config.model).to(device)\n"
   ]
  },
  {
   "cell_type": "code",
   "execution_count": null,
   "metadata": {},
   "outputs": [],
   "source": [
    "model.eval()"
   ]
  },
  {
   "cell_type": "code",
   "execution_count": null,
   "metadata": {},
   "outputs": [],
   "source": [
    "# num_beams = 4\n",
    "# num_new_tokens = 64\n",
    "# top_k = 16\n",
    "# temperature = 1.0\n",
    "# consolidation_temperature = 100.0\n",
    "# batch_size = 1\n",
    "ignore_index = -100\n",
    "# beam_expansion_factor = 8\n",
    "# length_boost = 1.0\n",
    "\n",
    "num_candidates = 8"
   ]
  },
  {
   "cell_type": "code",
   "execution_count": null,
   "metadata": {},
   "outputs": [],
   "source": [
    "# generator = BeamSearchTokenGenerator(\n",
    "#     model,\n",
    "#     beam_width=num_beams,\n",
    "#     temperature=temperature,\n",
    "#     consolidation_temperature=consolidation_temperature,\n",
    "#     max_new_tokens=num_new_tokens,\n",
    "#     no_repeat_n_grams=(2, 3, 4, 5),\n",
    "#     top_k=top_k,\n",
    "#     beam_expansion_factor=beam_expansion_factor,\n",
    "#     eos_token_id=tokenizer.eos_token_id,\n",
    "#     length_boost=length_boost,\n",
    "# )"
   ]
  },
  {
   "cell_type": "code",
   "execution_count": null,
   "metadata": {
    "scrolled": true
   },
   "outputs": [],
   "source": [
    "tx = ViT_B_16_Weights.IMAGENET1K_SWAG_LINEAR_V1.transforms()\n",
    "\n",
    "\n",
    "for i, batch in enumerate(val_dl):\n",
    "    if i == 20:\n",
    "        break\n",
    "\n",
    "    x = torch.tensor(batch['image'])\n",
    "    plt.imshow(x[0])\n",
    "    plt.show()\n",
    "\n",
    "    x = tx(x[0].permute(2, 0, 1)).unsqueeze(0)\n",
    "\n",
    "    prompt = tokenizer.bos_token\n",
    "    prompt_ids = torch.tensor(tokenizer(text=prompt).input_ids, dtype=torch.long).to(x.device).unsqueeze(0).expand(x.size(0), -1).contiguous()\n",
    "    x = x.to(device).expand(num_candidates, -1, -1, -1)\n",
    "\n",
    "    decoded_ids = torch.tensor(\n",
    "        tokenizer(text=prompt).input_ids,\n",
    "        dtype=torch.long).to(device).unsqueeze(0).expand(x.size(0), -1).contiguous()\n",
    "\n",
    "    result = model.generate(images=x,\n",
    "                            prompt_ids=decoded_ids,\n",
    "                            temperature=1.0,\n",
    "                            max_new_tokens=64,\n",
    "                            top_k=16)\n",
    "    result = tokenizer.batch_decode(result[:, 1:])\n",
    "\n",
    "    print('truth', batch['caption_0'][0], batch['caption_1'][0], batch['caption_2'][0], batch['caption_3'][0], batch['caption_4'][0], '\\n')\n",
    "    for gen in result:\n",
    "        i = gen.find(tokenizer.eos_token)\n",
    "        gen = gen[:i]\n",
    "        print(gen)\n",
    "    print(\"========================================================\")"
   ]
  },
  {
   "cell_type": "code",
   "execution_count": null,
   "metadata": {},
   "outputs": [],
   "source": []
  }
 ],
 "metadata": {
  "kernelspec": {
   "display_name": "Python 3 (ipykernel)",
   "language": "python",
   "name": "python3"
  },
  "language_info": {
   "codemirror_mode": {
    "name": "ipython",
    "version": 3
   },
   "file_extension": ".py",
   "mimetype": "text/x-python",
   "name": "python",
   "nbconvert_exporter": "python",
   "pygments_lexer": "ipython3",
   "version": "3.10.12"
  }
 },
 "nbformat": 4,
 "nbformat_minor": 4
}
